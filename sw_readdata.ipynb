{
 "cells": [
  {
   "cell_type": "code",
   "execution_count": 1,
   "metadata": {},
   "outputs": [],
   "source": [
    "from google.cloud import storage\n",
    "import duckdb\n",
    "import os\n",
    "\n",
    "duckdb_conn = duckdb.connect(database=\":memory:\", read_only=False)\n",
    "\n",
    "#bucket_name = \"globo_swdata\"\n",
    "#json_path = \"credentials_valhalla.json\""
   ]
  },
  {
   "cell_type": "code",
   "execution_count": null,
   "metadata": {},
   "outputs": [],
   "source": [
    "# def list_gcs_files():\n",
    "#     storage_client = storage.Client.from_service_account_json(json_path)\n",
    "#     bucket = storage_client.bucket(bucket_name)\n",
    "#     blobs = bucket.list_blobs(prefix=\"sw_parquet\")\n",
    "#     files = list()\n",
    "#     for blob in blobs:\n",
    "#         name = blob.name.split(\"/\")[-1]\n",
    "#         if name.endswith(\"parquet\"):\n",
    "#             bucket_files = name\n",
    "#             files.append(bucket_files)\n",
    "#         return files\n",
    "\n",
    "\n",
    "# def download_gcs_file(file_name):\n",
    "#     storage_client = storage.Client.from_service_account_json(json_path)\n",
    "#     bucket = storage_client.bucket(bucket_name)\n",
    "#     blob = bucket.blob(f\"sw_parquet/{file_name}\")\n",
    "#     local_path = os.path.join(\"/mnt/f/github/globo/\", file_name)\n",
    "#     blob.download_to_filename(local_path)\n",
    "#     return local_path\n",
    "\n",
    "\n",
    "# # Download the first file from the list\n",
    "# files = list_gcs_files()\n",
    "# for file in files:\n",
    "#     download_gcs_file(file)"
   ]
  },
  {
   "cell_type": "code",
   "execution_count": 2,
   "metadata": {},
   "outputs": [],
   "source": [
    "\n",
    "# Load the downloaded file into a DataFrame\n",
    "df_films = duckdb_conn.from_parquet(\"films_data.parquet\").to_df()\n",
    "df_people = duckdb_conn.from_parquet(\"people_data.parquet\").to_df()\n",
    "df_films = duckdb_conn.from_parquet(\"films_data.parquet\").to_df()\n",
    "df_starships = duckdb_conn.from_parquet(\"starships_data.parquet\").to_df()\n",
    "df_vehicles = duckdb_conn.from_parquet(\"vehicles_data.parquet\").to_df()\n",
    "df_planets = duckdb_conn.from_parquet(\"planets_data.parquet\").to_df()\n",
    "df_species = duckdb_conn.from_parquet(\"species_data.parquet\").to_df()\n"
   ]
  },
  {
   "cell_type": "markdown",
   "metadata": {},
   "source": [
    "## Resultados"
   ]
  },
  {
   "cell_type": "code",
   "execution_count": null,
   "metadata": {},
   "outputs": [],
   "source": [
    "query = \"\"\"SELECT name, \n",
    "    \trotation_period, \n",
    "        orbital_period, \n",
    "        diameter, \n",
    "        climate, \n",
    "        gravity, \n",
    "        terrain, \n",
    "        surface_water, \n",
    "        population\n",
    "        FROM df_planets\n",
    "        ORDER BY \n",
    "        climate ASC,\n",
    "        population ASC,\n",
    "        name ASC\n",
    "        LIMIT 10\n",
    "\n",
    "        \"\"\"\n",
    "result = duckdb_conn.execute(query)\n",
    "result.df()"
   ]
  },
  {
   "cell_type": "code",
   "execution_count": null,
   "metadata": {},
   "outputs": [],
   "source": [
    "query = \"\"\"SELECT df_people.name, df_films.title \n",
    "    \tfrom df_people, df_films\n",
    "        WHERE df_people.films = df_films.url\n",
    "        name ASC\n",
    "        LIMIT 10\n",
    "\n",
    "        \"\"\"\n",
    "result = duckdb_conn.execute(query)\n",
    "result.df()"
   ]
  },
  {
   "cell_type": "code",
   "execution_count": null,
   "metadata": {},
   "outputs": [],
   "source": [
    "query = \"\"\"\n",
    "SELECT \n",
    "  title,\n",
    "  STRING_SPLIT(CAST(characters AS VARCHAR), ',') AS character\n",
    "FROM \n",
    "  df_films\n",
    "\"\"\"\n",
    "result = duckdb_conn.execute(query)\n",
    "result.df()\n"
   ]
  },
  {
   "cell_type": "code",
   "execution_count": 27,
   "metadata": {},
   "outputs": [
    {
     "data": {
      "text/html": [
       "<div>\n",
       "<style scoped>\n",
       "    .dataframe tbody tr th:only-of-type {\n",
       "        vertical-align: middle;\n",
       "    }\n",
       "\n",
       "    .dataframe tbody tr th {\n",
       "        vertical-align: top;\n",
       "    }\n",
       "\n",
       "    .dataframe thead th {\n",
       "        text-align: right;\n",
       "    }\n",
       "</style>\n",
       "<table border=\"1\" class=\"dataframe\">\n",
       "  <thead>\n",
       "    <tr style=\"text-align: right;\">\n",
       "      <th></th>\n",
       "      <th>Filme</th>\n",
       "      <th>Personagens</th>\n",
       "    </tr>\n",
       "  </thead>\n",
       "  <tbody>\n",
       "    <tr>\n",
       "      <th>0</th>\n",
       "      <td>Attack of the Clones</td>\n",
       "      <td>40</td>\n",
       "    </tr>\n",
       "    <tr>\n",
       "      <th>1</th>\n",
       "      <td>Revenge of the Sith</td>\n",
       "      <td>34</td>\n",
       "    </tr>\n",
       "    <tr>\n",
       "      <th>2</th>\n",
       "      <td>The Empire Strikes Back</td>\n",
       "      <td>16</td>\n",
       "    </tr>\n",
       "    <tr>\n",
       "      <th>3</th>\n",
       "      <td>Return of the Jedi</td>\n",
       "      <td>20</td>\n",
       "    </tr>\n",
       "    <tr>\n",
       "      <th>4</th>\n",
       "      <td>A New Hope</td>\n",
       "      <td>18</td>\n",
       "    </tr>\n",
       "    <tr>\n",
       "      <th>5</th>\n",
       "      <td>The Phantom Menace</td>\n",
       "      <td>34</td>\n",
       "    </tr>\n",
       "  </tbody>\n",
       "</table>\n",
       "</div>"
      ],
      "text/plain": [
       "                     Filme  Personagens\n",
       "0     Attack of the Clones           40\n",
       "1      Revenge of the Sith           34\n",
       "2  The Empire Strikes Back           16\n",
       "3       Return of the Jedi           20\n",
       "4               A New Hope           18\n",
       "5       The Phantom Menace           34"
      ]
     },
     "execution_count": 27,
     "metadata": {},
     "output_type": "execute_result"
    }
   ],
   "source": [
    "query = \"\"\"\n",
    "SELECT \n",
    "  title AS Filme,\n",
    "  COUNT(DISTINCT character) AS Personagens\n",
    "FROM \n",
    "  df_films,\n",
    "  UNNEST(STRING_SPLIT(CAST(characters AS VARCHAR), ',')) AS character\n",
    "GROUP BY \n",
    "  title;\n",
    "\"\"\"\n",
    "result = duckdb_conn.execute(query)\n",
    "result.df()\n"
   ]
  }
 ],
 "metadata": {
  "kernelspec": {
   "display_name": "venv",
   "language": "python",
   "name": "python3"
  },
  "language_info": {
   "codemirror_mode": {
    "name": "ipython",
    "version": 3
   },
   "file_extension": ".py",
   "mimetype": "text/x-python",
   "name": "python",
   "nbconvert_exporter": "python",
   "pygments_lexer": "ipython3",
   "version": "3.10.12"
  }
 },
 "nbformat": 4,
 "nbformat_minor": 2
}
