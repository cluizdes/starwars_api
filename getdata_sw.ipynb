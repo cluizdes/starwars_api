{
 "cells": [
  {
   "cell_type": "code",
   "execution_count": 20,
   "metadata": {},
   "outputs": [],
   "source": [
    "import pandas as pd\n",
    "import requests\n"
   ]
  },
  {
   "cell_type": "code",
   "execution_count": 21,
   "metadata": {},
   "outputs": [],
   "source": [
    "def get_data(url):\n",
    "    \"\"\"\n",
    "    Retorna os dados da url:\n",
    "    :param url: string\n",
    "    \"\"\"\n",
    "    r = requests.get(url)\n",
    "    return r.json()"
   ]
  },
  {
   "cell_type": "code",
   "execution_count": 22,
   "metadata": {},
   "outputs": [],
   "source": [
    "people_data = []\n",
    "starships_data = []\n",
    "planets_data = []\n",
    "species_data = []\n",
    "vehicles_data = []\n",
    "films_data = []"
   ]
  },
  {
   "cell_type": "code",
   "execution_count": 4,
   "metadata": {
    "notebookRunGroups": {
     "groupValue": "1"
    }
   },
   "outputs": [],
   "source": [
    "for x in range(1, 84):\n",
    "    url = f'https://swapi.dev/api/people/{x}'\n",
    "    people = get_data(url)\n",
    "    people_data.append(people)\n",
    "people_data = pd.DataFrame(people_data)\n",
    "people_data.to_parquet('people_data.parquet', index=True)"
   ]
  },
  {
   "cell_type": "code",
   "execution_count": 10,
   "metadata": {},
   "outputs": [],
   "source": [
    "for x in range(1, 44):\n",
    "    url = f'https://swapi.dev/api/starships/{x}'\n",
    "    starships = get_data(url)\n",
    "    starships_data.append(starships)\n",
    "starships_data = pd.DataFrame(starships_data)\n",
    "starships_data.to_parquet('starships_data.parquet', index=True)"
   ]
  },
  {
   "cell_type": "code",
   "execution_count": 11,
   "metadata": {},
   "outputs": [],
   "source": [
    "for x in range(1, 61):\n",
    "    url = f'https://swapi.dev/api/planets/{x}'\n",
    "    planets = get_data(url)\n",
    "    planets_data.append(planets)\n",
    "planets_data = pd.DataFrame(planets_data)\n",
    "planets_data.to_parquet('planets_data.parquet', index=True)"
   ]
  },
  {
   "cell_type": "code",
   "execution_count": 12,
   "metadata": {},
   "outputs": [],
   "source": [
    "for x in range(1,38):\n",
    "    url = f'https://swapi.dev/api/species/{x}'\n",
    "    species = get_data(url)\n",
    "    species_data.append(species)\n",
    "species_data = pd.DataFrame(species_data)\n",
    "species_data.to_parquet('species_data.parquet', index=True)"
   ]
  },
  {
   "cell_type": "code",
   "execution_count": 13,
   "metadata": {},
   "outputs": [],
   "source": [
    "for x in range(1, 74):\n",
    "    url = f'https://swapi.dev/api/vehicles/{x}'\n",
    "    vehicles = get_data(url)\n",
    "    vehicles_data.append(vehicles)\n",
    "vehicles_data = pd.DataFrame(vehicles_data)\n",
    "vehicles_data.to_parquet('vehicles_data.parquet', index=True)"
   ]
  },
  {
   "cell_type": "code",
   "execution_count": 23,
   "metadata": {},
   "outputs": [],
   "source": [
    "for x in range(1, 7):\n",
    "    url = f'https://swapi.dev/api/films/{x}'\n",
    "    films = get_data(url)\n",
    "    films_data.append(films)\n",
    "films_data = pd.DataFrame(films_data)\n",
    "films_data.to_parquet('films_data.parquet', index=True)"
   ]
  },
  {
   "cell_type": "code",
   "execution_count": null,
   "metadata": {},
   "outputs": [],
   "source": [
    "def organizar_parquet():\n",
    "    \"\"\"\n",
    "    Organizes the parquet files by moving them to a 'parquet' directory.\n",
    "    \"\"\"\n",
    "    if not os.path.exists(\"parquet\"):\n",
    "        os.makedirs(\"parquet\")\n",
    "    \n",
    "    for arquivo in [arq for arq in os.listdir() if arq.endswith(\".parquet\")]:\n",
    "        shutil.move(arquivo, \"parquet\")\n",
    "\n",
    "\n",
    "organizar_parquet()"
   ]
  }
 ],
 "metadata": {
  "kernelspec": {
   "display_name": "venv",
   "language": "python",
   "name": "python3"
  },
  "language_info": {
   "codemirror_mode": {
    "name": "ipython",
    "version": 3
   },
   "file_extension": ".py",
   "mimetype": "text/x-python",
   "name": "python",
   "nbconvert_exporter": "python",
   "pygments_lexer": "ipython3",
   "version": "3.10.12"
  }
 },
 "nbformat": 4,
 "nbformat_minor": 2
}
