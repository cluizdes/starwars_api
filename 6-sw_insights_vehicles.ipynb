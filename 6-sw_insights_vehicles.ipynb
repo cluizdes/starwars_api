{
 "cells": [
  {
   "cell_type": "markdown",
   "metadata": {},
   "source": [
    "#   Insights STARS WARS - Teste Prático Globo"
   ]
  },
  {
   "cell_type": "code",
   "execution_count": 1,
   "metadata": {},
   "outputs": [],
   "source": [
    "import os\n",
    "import shutil\n",
    "import duckdb\n",
    "\n",
    "duckdb_conn = duckdb.connect(database=\":memory:\", read_only=False)\n",
    "\n",
    "def mover_arquivos_parquet():\n",
    "    if not os.path.exists('parquet'):\n",
    "        os.makedirs('parquet')\n",
    "    [shutil.move(f, 'parquet') for f in os.listdir('.') if f.endswith('.parquet')]\n",
    "\n",
    "mover_arquivos_parquet()\n",
    "\n",
    "df_films = duckdb_conn.from_parquet(\"./parquet/films_data.parquet\").to_df()\n",
    "df_people = duckdb_conn.from_parquet(\"./parquet/people_data.parquet\").to_df()\n",
    "df_films = duckdb_conn.from_parquet(\"./parquet/films_data.parquet\").to_df()\n",
    "df_starships = duckdb_conn.from_parquet(\"./parquet/starships_data.parquet\").to_df()\n",
    "df_vehicles = duckdb_conn.from_parquet(\"./parquet/vehicles_data.parquet\").to_df()\n",
    "df_planets = duckdb_conn.from_parquet(\"./parquet/planets_data.parquet\").to_df()\n",
    "df_species = duckdb_conn.from_parquet(\"./parquet/species_data.parquet\").to_df()"
   ]
  },
  {
   "cell_type": "markdown",
   "metadata": {},
   "source": [
    "## "
   ]
  },
  {
   "cell_type": "code",
   "execution_count": null,
   "metadata": {},
   "outputs": [],
   "source": [
    "query = \"\"\"\n",
    "SELECT \n",
    "  *\n",
    "FROM \n",
    "  df_vehicles\n",
    "\n",
    "\n",
    "\"\"\"\n",
    "result = duckdb_conn.execute(query)\n",
    "result.df()"
   ]
  },
  {
   "cell_type": "markdown",
   "metadata": {},
   "source": [
    "## "
   ]
  },
  {
   "cell_type": "code",
   "execution_count": null,
   "metadata": {},
   "outputs": [],
   "source": [
    "\n",
    "query = \"\"\"\n",
    "SELECT \n",
    "  climate,\n",
    "  COUNT(*) AS count\n",
    "FROM \n",
    "  df_planets\n",
    "\n",
    "\"\"\"\n",
    "result = duckdb_conn.execute(query)\n",
    "result.df()"
   ]
  },
  {
   "cell_type": "markdown",
   "metadata": {},
   "source": [
    "## "
   ]
  },
  {
   "cell_type": "code",
   "execution_count": null,
   "metadata": {},
   "outputs": [],
   "source": [
    "query = \"\"\"\n",
    "SELECT \n",
    "  name as Nome,\n",
    "  CAST(diameter AS int64) AS Diametro\n",
    "FROM \n",
    "  df_planets\n",
    "\n",
    "\n",
    "\"\"\"\n",
    "result = duckdb_conn.execute(query)\n",
    "result.df()\n"
   ]
  },
  {
   "cell_type": "markdown",
   "metadata": {},
   "source": [
    "## "
   ]
  },
  {
   "cell_type": "code",
   "execution_count": null,
   "metadata": {},
   "outputs": [],
   "source": [
    "query = \"\"\"\n",
    "SELECT \n",
    "    p.name AS Planeta,\n",
    "    f.title AS Filme\n",
    "FROM df_planets as p\n",
    " \n",
    "\"\"\"\n",
    "result = duckdb_conn.execute(query)\n",
    "result.df()"
   ]
  },
  {
   "cell_type": "markdown",
   "metadata": {},
   "source": [
    "## "
   ]
  },
  {
   "cell_type": "code",
   "execution_count": null,
   "metadata": {},
   "outputs": [],
   "source": [
    "query = \"\"\"\n",
    "SELECT p.name AS Nome,\n",
    "    pl.name AS Planeta\n",
    "FROM df_people as p\n",
    "\n",
    "\"\"\"\n",
    "result = duckdb_conn.execute(query)\n",
    "result.df()"
   ]
  },
  {
   "cell_type": "markdown",
   "metadata": {},
   "source": [
    "## "
   ]
  },
  {
   "cell_type": "code",
   "execution_count": null,
   "metadata": {},
   "outputs": [],
   "source": [
    "query = \"\"\"\n",
    "SELECT \n",
    "name as Nome,\n",
    "climate as Clima,\n",
    "terrain as Terreno,\n",
    "surface_water as Agua\n",
    "FROM df_planets as p\n",
    "\n",
    "\"\"\"\n",
    "result = duckdb_conn.execute(query)\n",
    "result.df()"
   ]
  }
 ],
 "metadata": {
  "kernelspec": {
   "display_name": "venv",
   "language": "python",
   "name": "python3"
  },
  "language_info": {
   "codemirror_mode": {
    "name": "ipython",
    "version": 3
   },
   "file_extension": ".py",
   "mimetype": "text/x-python",
   "name": "python",
   "nbconvert_exporter": "python",
   "pygments_lexer": "ipython3",
   "version": "3.10.12"
  }
 },
 "nbformat": 4,
 "nbformat_minor": 2
}
